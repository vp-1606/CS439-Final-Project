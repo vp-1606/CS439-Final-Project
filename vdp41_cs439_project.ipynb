{
 "cells": [
  {
   "cell_type": "markdown",
   "id": "b5556ba0-c057-42b9-bb88-4a5bd0b33701",
   "metadata": {},
   "source": [
    "### CS 439 Final Project\n",
    "**Name:** Vic Permakoff\\\n",
    "**NetID:** vdp41\\\n",
    "**Section:** 03\n",
    "\n",
    "### Project Description:\n",
    "This project is an unsupervised learning analysis of a mental health survey among IT students in Pakistan. In this project, I look at and modify the dataset using various pandas techniques in order to create visualizations such as charts and graphs in order to display correlations between mental health problems and various factors of student life."
   ]
  },
  {
   "cell_type": "code",
   "execution_count": 1,
   "id": "4d0075c1-1eaa-4693-9e3d-455748270887",
   "metadata": {},
   "outputs": [],
   "source": [
    "# Importing necessary libraries\n",
    "\n",
    "import pandas as pd\n",
    "import numpy as np\n",
    "import matplotlib.pyplot as plt\n",
    "import seaborn as sns\n",
    "from scipy import stats\n",
    "from scipy.stats import t\n"
   ]
  },
  {
   "cell_type": "code",
   "execution_count": 2,
   "id": "b4e072ce-674e-46ab-8c87-9186a118d46d",
   "metadata": {
    "scrolled": true
   },
   "outputs": [],
   "source": [
    "# Reading data from the dataset, downloaded and included in the files for the project\n",
    "# Source: https://www.kaggle.com/datasets/abdullahashfaqvirk/student-mental-health-survey/\n",
    "\n",
    "survey_data_raw = pd.read_csv(\"./project/MentalHealthSurvey.csv\")\n"
   ]
  },
  {
   "cell_type": "markdown",
   "id": "8d66997a-d51e-4432-9ccb-d4f0452904d1",
   "metadata": {},
   "source": [
    "#### Initial display, preprocessing, and description of the data for interpretation"
   ]
  },
  {
   "cell_type": "code",
   "execution_count": 3,
   "id": "d80dff9e-c4ec-4498-8034-7541a75c9fb7",
   "metadata": {},
   "outputs": [
    {
     "name": "stdout",
     "output_type": "stream",
     "text": [
      "   gender  age university   degree_level      degree_major academic_year  \\\n",
      "0    Male   20         PU  Undergraduate      Data Science      2nd year   \n",
      "1    Male   20        UET   Postgraduate  Computer Science      3rd year   \n",
      "2    Male   20       FAST  Undergraduate  Computer Science      3rd year   \n",
      "3    Male   20        UET  Undergraduate  Computer Science      3rd year   \n",
      "4  Female   20        UET  Undergraduate  Computer Science      3rd year   \n",
      "5  Female   20        UET  Undergraduate  Computer Science      3rd year   \n",
      "6    Male   26         PU   Postgraduate      Data Science      1st year   \n",
      "7    Male   22         PU  Undergraduate      Data Science      2nd year   \n",
      "8    Male   20    COMSATS  Undergraduate  Computer Science      3rd year   \n",
      "9    Male   23    COMSATS  Undergraduate  Computer Science      3rd year   \n",
      "\n",
      "      cgpa residential_status campus_discrimination sports_engagement  \\\n",
      "0  3.0-3.5         Off-Campus                    No         No Sports   \n",
      "1  3.0-3.5         Off-Campus                    No         1-3 times   \n",
      "2  2.5-3.0         Off-Campus                    No         1-3 times   \n",
      "3  2.5-3.0          On-Campus                    No         No Sports   \n",
      "4  3.0-3.5         Off-Campus                   Yes         No Sports   \n",
      "5  3.0-3.5         Off-Campus                    No         No Sports   \n",
      "6  2.5-3.0          On-Campus                   Yes         1-3 times   \n",
      "7  3.0-3.5         Off-Campus                   Yes         No Sports   \n",
      "8  2.5-3.0         Off-Campus                   Yes         1-3 times   \n",
      "9  2.5-3.0         Off-Campus                    No         No Sports   \n",
      "\n",
      "  average_sleep  study_satisfaction  academic_workload   academic_pressure  \\\n",
      "0       4-6 hrs                   5                   4                  5   \n",
      "1       4-6 hrs                   5                   4                  4   \n",
      "2       2-4 hrs                   5                   5                  5   \n",
      "3       4-6 hrs                   3                   5                  4   \n",
      "4       4-6 hrs                   3                   5                  5   \n",
      "5       4-6 hrs                   4                   5                  5   \n",
      "6       7-8 hrs                   4                   4                  4   \n",
      "7       4-6 hrs                   3                   4                  4   \n",
      "8       4-6 hrs                   3                   4                  3   \n",
      "9       4-6 hrs                   3                   5                  3   \n",
      "\n",
      "   financial_concerns  social_relationships  depression  anxiety  isolation  \\\n",
      "0                   4                     3           2        1          1   \n",
      "1                   1                     3           3        3          3   \n",
      "2                   3                     4           2        3          3   \n",
      "3                   4                     1           5        5          5   \n",
      "4                   2                     3           5        5          4   \n",
      "5                   3                     3           5        5          5   \n",
      "6                   5                     2           5        4          4   \n",
      "7                   5                     4           3        2          2   \n",
      "8                   4                     2           3        4          3   \n",
      "9                   5                     1           5        5          5   \n",
      "\n",
      "   future_insecurity                           stress_relief_activities  \n",
      "0                  2  Religious Activities, Social Connections, Onli...  \n",
      "1                  4                               Online Entertainment  \n",
      "2                  1  Religious Activities, Sports and Fitness, Onli...  \n",
      "3                  3                               Online Entertainment  \n",
      "4                  4                               Online Entertainment  \n",
      "5                  5  Religious Activities, Social Connections, Onli...  \n",
      "6                  5           Social Connections, Online Entertainment  \n",
      "7                  4  Religious Activities, Social Connections, Onli...  \n",
      "8                  5  Religious Activities, Social Connections, Onli...  \n",
      "9                  5                                 Sports and Fitness  \n"
     ]
    }
   ],
   "source": [
    "\n",
    "# There are over 20 columns, so we want to be able to see all of them\n",
    "pd.set_option('display.max_columns', None)\n",
    "\n",
    "# Display the first ten rows of the dataset\n",
    "print(survey_data_raw.head(10))\n"
   ]
  },
  {
   "cell_type": "code",
   "execution_count": 4,
   "id": "5b6240ee-1e17-40f5-a580-54bbb79e6441",
   "metadata": {},
   "outputs": [
    {
     "name": "stdout",
     "output_type": "stream",
     "text": [
      "<class 'pandas.core.frame.DataFrame'>\n",
      "RangeIndex: 87 entries, 0 to 86\n",
      "Data columns (total 21 columns):\n",
      " #   Column                    Non-Null Count  Dtype \n",
      "---  ------                    --------------  ----- \n",
      " 0   gender                    87 non-null     object\n",
      " 1   age                       87 non-null     int64 \n",
      " 2   university                87 non-null     object\n",
      " 3   degree_level              87 non-null     object\n",
      " 4   degree_major              87 non-null     object\n",
      " 5   academic_year             87 non-null     object\n",
      " 6   cgpa                      87 non-null     object\n",
      " 7   residential_status        87 non-null     object\n",
      " 8   campus_discrimination     87 non-null     object\n",
      " 9   sports_engagement         87 non-null     object\n",
      " 10  average_sleep             87 non-null     object\n",
      " 11  study_satisfaction        87 non-null     int64 \n",
      " 12  academic_workload         87 non-null     int64 \n",
      " 13  academic_pressure         87 non-null     int64 \n",
      " 14  financial_concerns        87 non-null     int64 \n",
      " 15  social_relationships      87 non-null     int64 \n",
      " 16  depression                87 non-null     int64 \n",
      " 17  anxiety                   87 non-null     int64 \n",
      " 18  isolation                 87 non-null     int64 \n",
      " 19  future_insecurity         87 non-null     int64 \n",
      " 20  stress_relief_activities  87 non-null     object\n",
      "dtypes: int64(10), object(11)\n",
      "memory usage: 14.4+ KB\n",
      "None\n"
     ]
    }
   ],
   "source": [
    "\n",
    "# View the column names in a list to see how the data is measured and whether there are any rows with missing data\n",
    "print(survey_data_raw.info())\n"
   ]
  },
  {
   "cell_type": "code",
   "execution_count": 5,
   "id": "5698a61b-a368-4afe-a27c-897c4c06638a",
   "metadata": {},
   "outputs": [
    {
     "name": "stdout",
     "output_type": "stream",
     "text": [
      "gender                      0\n",
      "age                         0\n",
      "university                  0\n",
      "degree_level                0\n",
      "degree_major                0\n",
      "academic_year               0\n",
      "cgpa                        0\n",
      "residential_status          0\n",
      "campus_discrimination       0\n",
      "sports_engagement           0\n",
      "average_sleep               0\n",
      "study_satisfaction          0\n",
      "academic_workload           0\n",
      "academic_pressure           0\n",
      "financial_concerns          0\n",
      "social_relationships        0\n",
      "depression                  0\n",
      "anxiety                     0\n",
      "isolation                   0\n",
      "future_insecurity           0\n",
      "stress_relief_activities    0\n",
      "dtype: int64\n"
     ]
    }
   ],
   "source": [
    "\n",
    "# None of the data columns have null values, but it is good practice to clean the data nonetheless.\n",
    "survey_clean_data = survey_data_raw.dropna()\n",
    "print(survey_clean_data.isnull().sum())\n"
   ]
  },
  {
   "cell_type": "code",
   "execution_count": 6,
   "id": "ce2404fd-fc84-4863-8cca-d7b8eb381b0f",
   "metadata": {},
   "outputs": [
    {
     "name": "stdout",
     "output_type": "stream",
     "text": [
      "             age  study_satisfaction  academic_workload   academic_pressure  \\\n",
      "count  87.000000           87.000000           87.000000          87.000000   \n",
      "mean   19.942529            3.931034            3.885057           3.781609   \n",
      "std     1.623636            1.043174            0.854880           1.125035   \n",
      "min    17.000000            1.000000            2.000000           1.000000   \n",
      "25%    19.000000            3.000000            3.000000           3.000000   \n",
      "50%    20.000000            4.000000            4.000000           4.000000   \n",
      "75%    21.000000            5.000000            4.500000           5.000000   \n",
      "max    26.000000            5.000000            5.000000           5.000000   \n",
      "\n",
      "       financial_concerns  social_relationships  depression    anxiety  \\\n",
      "count           87.000000             87.000000   87.000000  87.000000   \n",
      "mean             3.390805              2.781609    3.218391   3.218391   \n",
      "std              1.400634              1.175578    1.367609   1.297809   \n",
      "min              1.000000              1.000000    1.000000   1.000000   \n",
      "25%              2.500000              2.000000    2.000000   2.000000   \n",
      "50%              3.000000              3.000000    3.000000   3.000000   \n",
      "75%              5.000000              4.000000    4.000000   4.000000   \n",
      "max              5.000000              5.000000    5.000000   5.000000   \n",
      "\n",
      "       isolation  future_insecurity  \n",
      "count  87.000000          87.000000  \n",
      "mean    3.241379           3.011494  \n",
      "std     1.405682           1.385089  \n",
      "min     1.000000           1.000000  \n",
      "25%     2.000000           2.000000  \n",
      "50%     3.000000           3.000000  \n",
      "75%     4.500000           4.000000  \n",
      "max     5.000000           5.000000  \n"
     ]
    }
   ],
   "source": [
    "\n",
    "# Find the mean, standard deviation, minimum, maximum, median, and interquartile values of the numerical data\n",
    "print(survey_clean_data.describe())\n",
    "\n",
    "# None of the minimum, maximum, or mean values of the quantitative data seem unordinary\n",
    "# Therefore it is likely that there are no extreme outliers that would need to be filtered out.\n"
   ]
  },
  {
   "cell_type": "markdown",
   "id": "79b4c15c-3245-46a9-a685-2f0908c64567",
   "metadata": {},
   "source": [
    "#### Column Interpretations:\n",
    "\n",
    "There are 21 columns and 87 rows. Each row represents one participant who took part in the survey, and the columns different questions they were asked. All of the data is quantitative (closed-ended rather than open-ended) and discrete, allowing for easy interpretation. Some of the data columns are measured numerically (age and 9 other scaled variables measured on a range of 1-5), while the other 11 data columns are categorical.\n",
    "\n",
    "The first column, \"gender,\" asks the gender of the participant (Male or Female).\\\n",
    "The second column, \"age,\" asks the age of the participant. The average age is 19.9.\\\n",
    "The third column, \"university,\" asks which university the participant is from (names of the university have been abbreviated).\\\n",
    "The fourth column, \"degree_level,\" asks whether the participant is an undergrate or postgraduate student.\\\n",
    "The fifth column, \"degree_major,\" asks what the participant's major is (Computer Science, Data Science, Information Technology, or Software Engineering).\\\n",
    "The sixth column, \"academic_year,\" asks what the participant's academic year is (1st, 2nd, 3rd, or 4th).\\\n",
    "The seventh column, \"cgpa,\" asks what the participant's cumulative GPA is within several intervals.\\\n",
    "The eighth column, \"residential_status,\" asks whether the participant lives on-campus or off-campus.\\\n",
    "The ninth column, \"campus_discrimination,\" asks whether the participant experiences discrimination on-campus.\\\n",
    "The tenth column, \"sports_engagement,\" asks whether the participant engages in any sports, and how often.\\\n",
    "The eleventh column, \"average_sleep,\" asks how much average sleep the participant gets per night.\n",
    "\n",
    "The following 9 columns are scaled from 1 to 5.\\\n",
    "The column \"study_satisfaction\" asks how satisfied the participant is with how much they study. The average is a 3.9/5, suggesting a relatively higher than mid-rate satisfaction in study time among the average student.\\\n",
    "The column \"academic_workload\" asks how difficult the participant considers their workload to be. The average is a 3.9/5, suggesting a relatively tougher than mid-rate workload. No students reported their workload to be less than 2/5.\\\n",
    "The column \"academic_pressure\" asks how much pressure the participant feels, academically. The average is a 3.8, suggesting that there is quite a bit of pressure among students to succeed academically.\\\n",
    "The column \"financial_concerns\" asks how concerned the participant feels about their financial situation. The average is a 3.7/5, showing that quite a few students feel concerned with their finances.\\\n",
    "The column \"social_relationships\" asks how the participant feels about their social relationships. It's unclear if this column is measuring personal satisfaction or general existance of social relationships. The average is a 2.7/5, an average much lower than the previous variables. It's possible that this means students may be more encouraged to focus on their education than social life in the surveyed universities.\\\n",
    "The column \"depression\" asks the participant to rate their feelings of depression. It's unclear if this is referring to feeling \"depressed\" or to whether the participant actually considers themselves to have symptoms of mood disorders such as Major Depressive Disorder (MDD). The average is a 3.2/5, which is higher than the median rate, suggesting that quite a few students feel in some way depressed, or feel rather severely depressed (>3).\\\n",
    "The column \"anxiety\" asks the participant to rate their feelings of anxiety. Again, it is unclear if this is referring to anxiety disorders such as General Anxiety Disorder or Social Anxiety Disorder, or general feelings of nervousness/worry. The average is also a 3.2/5.\\\n",
    "The column \"isolation\" asks the participant to rate their isolation. It is unclear if this is referring to how isolated they feel from others, or how often they isolate themselves. The average is 3.2/5.\\\n",
    "The column \"future_insecurity\" asks the participant how insecure they feel about their future. It is unclear if this is measuring near future or post-graduation futures. The average is a 3.0/5.\n",
    "\n"
   ]
  },
  {
   "cell_type": "markdown",
   "id": "a3806ca2-c43b-402e-ae53-c019c2bfd3b1",
   "metadata": {},
   "source": [
    "#### Data Visualization"
   ]
  },
  {
   "cell_type": "code",
   "execution_count": null,
   "id": "ad64e4a0-b58c-4261-afc5-ba8740d21cd8",
   "metadata": {},
   "outputs": [],
   "source": [
    "# First use a heatmap to look for correlations between ordinal variables\n",
    "\n",
    "plt.figure(figsize=(10, 6))\n",
    "sns.heatmap(survey_clean_data.iloc[:, 11:20].corr(), annot=True, cmap=\"vlag_r\")\n",
    "plt.title('Correlational Heatmap for Mental Health Variables')\n",
    "plt.show()\n",
    "\n",
    "# There is a clear correlation between several variables such as anxiety and depression."
   ]
  },
  {
   "cell_type": "code",
   "execution_count": null,
   "id": "c23fbbc6-048d-46af-87c4-c9b66ba39924",
   "metadata": {},
   "outputs": [],
   "source": [
    "\n",
    "# Plot a scatterplot with a linear regression to more clearly show the relationship between anxiety and depression\n",
    "# Jitter is added for visual clarity\n",
    "# Colors are added to also analyze isolation as a factor\n",
    "sns.lmplot(x='depression', y='anxiety', hue='isolation', data=survey_clean_data, x_jitter = 0.25, y_jitter = 0.25)\n",
    "plt.title(\"Linear relationship between Depression and Anxiety\")\n",
    "plt.show()\n"
   ]
  },
  {
   "cell_type": "code",
   "execution_count": null,
   "id": "2021182d-af4e-43bf-8c41-ea768b80b614",
   "metadata": {},
   "outputs": [],
   "source": [
    "\n",
    "# Create a new column in the dataset to indicate whether the individual has high depression/anxiety (>3)\n",
    "depanx_data = survey_clean_data.drop(columns=['depression', 'anxiety'])\n",
    "cond = [\n",
    "    (survey_clean_data['depression'] <= 3) & (survey_clean_data['anxiety'] <= 3),\n",
    "    (survey_clean_data['depression'] <= 3) & (survey_clean_data['anxiety'] > 3),\n",
    "    (survey_clean_data['depression'] > 3) & (survey_clean_data['anxiety'] <= 3),\n",
    "    (survey_clean_data['depression'] > 3) & (survey_clean_data['anxiety'] > 3)\n",
    "]\n",
    "val = ['low anx, low dep', 'high anx, low dep', 'low anx, high dep', 'high anx, high dep']\n",
    "depanx_data['high_depanx'] = np.select(cond, val, default='unknown')\n",
    "\n",
    "\n",
    "# Graph several histograms comparing the data using relationships found earlier\n",
    "# Find new relationships by comparing data among individuals who face discrimination and live on- or off-campus\n",
    "graph = sns.FacetGrid(depanx_data, col='residential_status', row='campus_discrimination', margin_titles=True)\n",
    "graph.map(sns.histplot, 'isolation', hue=depanx_data['high_depanx'], bins=5, kde=True)\n",
    "graph.add_legend(labels=['low anx, high dep', 'high anx, low dep', 'high anx, high dep', 'low anx, low dep'])\n",
    "plt.show()\n"
   ]
  },
  {
   "cell_type": "code",
   "execution_count": null,
   "id": "ab283b63-e885-49b9-9aa7-dac7c111fe61",
   "metadata": {},
   "outputs": [],
   "source": [
    "\n",
    "# Graph several histograms comparing the data using relationships found earlier\n",
    "# Find new relationships by comparing data among individuals who face discrimination and live on- or off-campus\n",
    "graph = sns.FacetGrid(depanx_data, col='residential_status', row='campus_discrimination', margin_titles=True)\n",
    "graph.map(sns.histplot, 'social_relationships', hue=depanx_data['high_depanx'], bins=5, kde=True)\n",
    "graph.add_legend(labels=['low anx, high dep', 'high anx, low dep', 'high anx, high dep', 'low anx, low dep'])\n",
    "plt.show()\n"
   ]
  },
  {
   "cell_type": "code",
   "execution_count": 11,
   "id": "e41b36b3-30ef-48bb-aa2a-06d60388eb79",
   "metadata": {},
   "outputs": [
    {
     "data": {
      "image/png": "[encoded data removed]",
      "text/plain": [
       "<Figure size 1000x400 with 1 Axes>"
      ]
     },
     "metadata": {},
     "output_type": "display_data"
    }
   ],
   "source": [
    "\n",
    "# Create a histogram of the cGPA of students alongside their levels of depression/anxiety.\n",
    "gpa_sort = list(dict.fromkeys(sorted(depanx_data['cgpa'],)))\n",
    "gpa_sort = sorted(gpa_sort, reverse=True)\n",
    "plt.figure(figsize=(10,4))\n",
    "sns.histplot(data=depanx_data, x='high_depanx', hue='cgpa', hue_order=gpa_sort, multiple='stack')\n",
    "plt.show()\n"
   ]
  },
  {
   "cell_type": "code",
   "execution_count": 12,
   "id": "6348fd9d-a524-4bc4-8934-7f2d7e01940b",
   "metadata": {},
   "outputs": [
    {
     "data": {
      "image/png": "[encoded data removed]",
      "text/plain": [
       "<Figure size 640x480 with 1 Axes>"
      ]
     },
     "metadata": {},
     "output_type": "display_data"
    }
   ],
   "source": [
    "\n",
    "sns.histplot(data=depanx_data, x='study_satisfaction', hue=depanx_data['high_depanx'], bins=5, multiple=\"stack\", kde=True, legend=True)\n",
    "plt.show()\n"
   ]
  },
  {
   "cell_type": "markdown",
   "id": "3f979827-0761-4a08-931f-a45ad3ff7c85",
   "metadata": {},
   "source": [
    "#### Use Statistical Tests such as two-sample T-tests to identify significance between variables"
   ]
  },
  {
   "cell_type": "code",
   "execution_count": 13,
   "id": "80ea2290-63a4-4a71-a6d2-9851ee35275d",
   "metadata": {},
   "outputs": [
    {
     "data": {
      "text/html": [
       "<div>\n",
       "<style scoped>\n",
       "    .dataframe tbody tr th:only-of-type {\n",
       "        vertical-align: middle;\n",
       "    }\n",
       "\n",
       "    .dataframe tbody tr th {\n",
       "        vertical-align: top;\n",
       "    }\n",
       "\n",
       "    .dataframe thead th {\n",
       "        text-align: right;\n",
       "    }\n",
       "</style>\n",
       "<table border=\"1\" class=\"dataframe\">\n",
       "  <thead>\n",
       "    <tr style=\"text-align: right;\">\n",
       "      <th></th>\n",
       "      <th>Variable</th>\n",
       "      <th>T-statistic (depression)</th>\n",
       "      <th>T-statistic (anxiety)</th>\n",
       "      <th>P-value (depression)</th>\n",
       "      <th>P-value (anxiety)</th>\n",
       "    </tr>\n",
       "  </thead>\n",
       "  <tbody>\n",
       "    <tr>\n",
       "      <th>0</th>\n",
       "      <td>isolation</td>\n",
       "      <td>7.006156</td>\n",
       "      <td>6.620261</td>\n",
       "      <td>5.399859e-10</td>\n",
       "      <td>3.060326e-09</td>\n",
       "    </tr>\n",
       "  </tbody>\n",
       "</table>\n",
       "</div>"
      ],
      "text/plain": [
       "    Variable  T-statistic (depression)  T-statistic (anxiety)  \\\n",
       "0  isolation                  7.006156               6.620261   \n",
       "\n",
       "   P-value (depression)  P-value (anxiety)  \n",
       "0          5.399859e-10       3.060326e-09  "
      ]
     },
     "execution_count": 13,
     "metadata": {},
     "output_type": "execute_result"
    }
   ],
   "source": [
    "\n",
    "# Find whether there is statistical significance in the correlation between depression and anxiety;\n",
    "# and isolation, social relationships, study satisfaction, academic pressure, and future insecurity.\n",
    "\n",
    "# Separate the isolation data into four arrays, two containing high levels of depression and anxiety (>3)\n",
    "# and two containing low (below average) levels of depression and anxiety (<=3)\n",
    "high_dep_isol = survey_clean_data[survey_clean_data['depression'] > 3]['isolation']\n",
    "low_dep_isol = survey_clean_data[survey_clean_data['depression'] <= 3]['isolation']\n",
    "high_anx_isol = survey_clean_data[survey_clean_data['anxiety'] > 3]['isolation']\n",
    "low_anx_isol = survey_clean_data[survey_clean_data['anxiety'] <= 3]['isolation']\n",
    "\n",
    "t_stat_dep, p_val_dep = stats.ttest_ind(high_dep_isol, low_dep_isol)\n",
    "t_stat_anx, p_val_anx = stats.ttest_ind(high_anx_isol, low_anx_isol)\n",
    "\n",
    "# print(\"T-statistic:\", t_stat_dep, \"(dep) and\", t_stat_anx, \"(anx)\")\n",
    "# print(\"P-value:\", p_val_dep, \"(dep) and\", p_val_anx, \"(anx)\")\n",
    "\n",
    "results_table = pd.DataFrame({'Variable': ['isolation'],\n",
    "                              'T-statistic (depression)': [t_stat_dep],\n",
    "                              'T-statistic (anxiety)': [t_stat_anx],\n",
    "                              'P-value (depression)': [p_val_dep],\n",
    "                              'P-value (anxiety)': [p_val_anx]})\n",
    "results_table.head()\n"
   ]
  },
  {
   "cell_type": "code",
   "execution_count": 14,
   "id": "7bfa1761-43f5-45ff-b609-618f955b1b00",
   "metadata": {},
   "outputs": [
    {
     "name": "stdout",
     "output_type": "stream",
     "text": [
      "T-statistic: 3.1208417894649365 (dep) and 2.9401926567709182 (anx)\n",
      "P-value: 0.0024637407961398614 (dep) and 0.004223947109952171 (anx)\n",
      "               Variable  T-statistic (depression)  T-statistic (anxiety)  \\\n",
      "0             isolation                  7.006156               6.620261   \n",
      "1    study_satisfaction                 -1.737430              -1.718709   \n",
      "2  social_relationships                 -2.755814              -3.340623   \n",
      "3     academic_pressure                  3.120842               2.940193   \n",
      "4     future_insecurity                  4.589371               4.156415   \n",
      "\n",
      "   P-value (depression)  P-value (anxiety)  \n",
      "0          5.399859e-10       3.060326e-09  \n",
      "1          8.593341e-02       8.930763e-02  \n",
      "2          7.162231e-03       1.243402e-03  \n",
      "3          2.463741e-03       4.223947e-03  \n",
      "4          1.522933e-05       7.677760e-05  \n"
     ]
    }
   ],
   "source": [
    "\n",
    "# Repeat this for other variables \n",
    "# This can absolutely be done with a for loop but honestly I ran out of time\n",
    "\n",
    "# study_satisfaction\n",
    "high_dep_stud = survey_clean_data[survey_clean_data['depression'] > 3]['study_satisfaction']\n",
    "low_dep_stud = survey_clean_data[survey_clean_data['depression'] <= 3]['study_satisfaction']\n",
    "high_anx_stud = survey_clean_data[survey_clean_data['anxiety'] > 3]['study_satisfaction']\n",
    "low_anx_stud = survey_clean_data[survey_clean_data['anxiety'] <= 3]['study_satisfaction']\n",
    "\n",
    "t_stat_dep, p_val_dep = stats.ttest_ind(high_dep_stud, low_dep_stud)\n",
    "t_stat_anx, p_val_anx = stats.ttest_ind(high_anx_stud, low_anx_stud)\n",
    "\n",
    "stud_dat = ['study_satisfaction', t_stat_dep, t_stat_anx, p_val_dep, p_val_anx]\n",
    "results_table.loc[len(results_table)] = stud_dat\n",
    "\n",
    "# social_relationships\n",
    "high_dep_socr = survey_clean_data[survey_clean_data['depression'] > 3]['social_relationships']\n",
    "low_dep_socr = survey_clean_data[survey_clean_data['depression'] <= 3]['social_relationships']\n",
    "high_anx_socr = survey_clean_data[survey_clean_data['anxiety'] > 3]['social_relationships']\n",
    "low_anx_socr = survey_clean_data[survey_clean_data['anxiety'] <= 3]['social_relationships']\n",
    "\n",
    "t_stat_dep, p_val_dep = stats.ttest_ind(high_dep_socr, low_dep_socr)\n",
    "t_stat_anx, p_val_anx = stats.ttest_ind(high_anx_socr, low_anx_socr)\n",
    "\n",
    "socr_dat = ['social_relationships', t_stat_dep, t_stat_anx, p_val_dep, p_val_anx]\n",
    "results_table.loc[len(results_table)] = socr_dat\n",
    "\n",
    "# academic_pressure\n",
    "high_dep_acpr = survey_clean_data[survey_clean_data['depression'] > 3]['academic_pressure']\n",
    "low_dep_acpr = survey_clean_data[survey_clean_data['depression'] <= 3]['academic_pressure']\n",
    "high_anx_acpr = survey_clean_data[survey_clean_data['anxiety'] > 3]['academic_pressure']\n",
    "low_anx_acpr = survey_clean_data[survey_clean_data['anxiety'] <= 3]['academic_pressure']\n",
    "\n",
    "t_stat_dep, p_val_dep = stats.ttest_ind(high_dep_acpr, low_dep_acpr)\n",
    "t_stat_anx, p_val_anx = stats.ttest_ind(high_anx_acpr, low_anx_acpr)\n",
    "\n",
    "acpr_dat = ['academic_pressure', t_stat_dep, t_stat_anx, p_val_dep, p_val_anx]\n",
    "results_table.loc[len(results_table)] = acpr_dat\n",
    "\n",
    "print(\"T-statistic:\", t_stat_dep, \"(dep) and\", t_stat_anx, \"(anx)\")\n",
    "print(\"P-value:\", p_val_dep, \"(dep) and\", p_val_anx, \"(anx)\")\n",
    "\n",
    "# future_insecurity\n",
    "high_dep_fuin = survey_clean_data[survey_clean_data['depression'] > 3]['future_insecurity']\n",
    "low_dep_fuin = survey_clean_data[survey_clean_data['depression'] <= 3]['future_insecurity']\n",
    "high_anx_fuin = survey_clean_data[survey_clean_data['anxiety'] > 3]['future_insecurity']\n",
    "low_anx_fuin = survey_clean_data[survey_clean_data['anxiety'] <= 3]['future_insecurity']\n",
    "\n",
    "t_stat_dep, p_val_dep = stats.ttest_ind(high_dep_fuin, low_dep_fuin)\n",
    "t_stat_anx, p_val_anx = stats.ttest_ind(high_anx_fuin, low_anx_fuin)\n",
    "\n",
    "fuin_dat = ['future_insecurity', t_stat_dep, t_stat_anx, p_val_dep, p_val_anx]\n",
    "results_table.loc[len(results_table)] = fuin_dat\n",
    "\n",
    "print(results_table)"
   ]
  },
  {
   "cell_type": "code",
   "execution_count": 15,
   "id": "023dcb08-1a7d-46b9-a05f-30e55f5af33c",
   "metadata": {},
   "outputs": [
    {
     "data": {
      "text/html": [
       "<div>\n",
       "<style scoped>\n",
       "    .dataframe tbody tr th:only-of-type {\n",
       "        vertical-align: middle;\n",
       "    }\n",
       "\n",
       "    .dataframe tbody tr th {\n",
       "        vertical-align: top;\n",
       "    }\n",
       "\n",
       "    .dataframe thead th {\n",
       "        text-align: right;\n",
       "    }\n",
       "</style>\n",
       "<table border=\"1\" class=\"dataframe\">\n",
       "  <thead>\n",
       "    <tr style=\"text-align: right;\">\n",
       "      <th></th>\n",
       "      <th>Variable</th>\n",
       "      <th>T-statistic (depression)</th>\n",
       "      <th>T-statistic (anxiety)</th>\n",
       "      <th>P-value (depression)</th>\n",
       "      <th>P-value (anxiety)</th>\n",
       "    </tr>\n",
       "  </thead>\n",
       "  <tbody>\n",
       "    <tr>\n",
       "      <th>0</th>\n",
       "      <td>isolation</td>\n",
       "      <td>7.006156</td>\n",
       "      <td>6.620261</td>\n",
       "      <td>5.399859e-10</td>\n",
       "      <td>3.060326e-09</td>\n",
       "    </tr>\n",
       "    <tr>\n",
       "      <th>1</th>\n",
       "      <td>study_satisfaction</td>\n",
       "      <td>-1.737430</td>\n",
       "      <td>-1.718709</td>\n",
       "      <td>8.593341e-02</td>\n",
       "      <td>8.930763e-02</td>\n",
       "    </tr>\n",
       "    <tr>\n",
       "      <th>2</th>\n",
       "      <td>social_relationships</td>\n",
       "      <td>-2.755814</td>\n",
       "      <td>-3.340623</td>\n",
       "      <td>7.162231e-03</td>\n",
       "      <td>1.243402e-03</td>\n",
       "    </tr>\n",
       "    <tr>\n",
       "      <th>3</th>\n",
       "      <td>academic_pressure</td>\n",
       "      <td>3.120842</td>\n",
       "      <td>2.940193</td>\n",
       "      <td>2.463741e-03</td>\n",
       "      <td>4.223947e-03</td>\n",
       "    </tr>\n",
       "    <tr>\n",
       "      <th>4</th>\n",
       "      <td>future_insecurity</td>\n",
       "      <td>4.589371</td>\n",
       "      <td>4.156415</td>\n",
       "      <td>1.522933e-05</td>\n",
       "      <td>7.677760e-05</td>\n",
       "    </tr>\n",
       "  </tbody>\n",
       "</table>\n",
       "</div>"
      ],
      "text/plain": [
       "               Variable  T-statistic (depression)  T-statistic (anxiety)  \\\n",
       "0             isolation                  7.006156               6.620261   \n",
       "1    study_satisfaction                 -1.737430              -1.718709   \n",
       "2  social_relationships                 -2.755814              -3.340623   \n",
       "3     academic_pressure                  3.120842               2.940193   \n",
       "4     future_insecurity                  4.589371               4.156415   \n",
       "\n",
       "   P-value (depression)  P-value (anxiety)  \n",
       "0          5.399859e-10       3.060326e-09  \n",
       "1          8.593341e-02       8.930763e-02  \n",
       "2          7.162231e-03       1.243402e-03  \n",
       "3          2.463741e-03       4.223947e-03  \n",
       "4          1.522933e-05       7.677760e-05  "
      ]
     },
     "execution_count": 15,
     "metadata": {},
     "output_type": "execute_result"
    }
   ],
   "source": [
    "results_table.head()"
   ]
  }
 ],
 "metadata": {
  "kernelspec": {
   "display_name": "Python 3 (ipykernel)",
   "language": "python",
   "name": "python3"
  },
  "language_info": {
   "codemirror_mode": {
    "name": "ipython",
    "version": 3
   },
   "file_extension": ".py",
   "mimetype": "text/x-python",
   "name": "python",
   "nbconvert_exporter": "python",
   "pygments_lexer": "ipython3",
   "version": "3.12.7"
  }
 },
 "nbformat": 4,
 "nbformat_minor": 5
}
